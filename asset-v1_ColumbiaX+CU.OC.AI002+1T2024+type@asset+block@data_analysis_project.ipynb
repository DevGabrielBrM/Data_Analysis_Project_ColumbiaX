{
 "cells": [
  {
   "cell_type": "markdown",
   "metadata": {},
   "source": [
    "# Project: Data Analysis using Python\n",
    "\n",
    "In this project, you will use the the Python packages pandas, matplotlib, numpy to analyze and visualize a data set.\n",
    "You will also train basic machine learning models using the scikit-learn package.\n",
    "\n",
    "The data you will explore consist of physiochemical measurements for about 6500 different varieties of wines. \n",
    "All wines are varieties of Portoguese \"Vinho Verde\" wines, which include both red and white wines. \n",
    "\n",
    "The raw version of the data set is available here: https://archive.ics.uci.edu/ml/datasets/wine_quality\n",
    "The data were originally collected by: Paulo Cortez, Antonio Cerdeira, Fernando Almeida, Telmo Matos and Jose Reis\n",
    "The data set is described in more detail in the following paper: \n",
    "\n",
    "  P. Cortez, A. Cerdeira, F. Almeida, T. Matos and J. Reis. \n",
    "  Modeling wine preferences by data mining from physicochemical properties.\n",
    "  In Decision Support Systems, Elsevier, 47(4):547-553. ISSN: 0167-9236.\n",
    "\n",
    "\n",
    "For each instance, there are 13 columns.\n",
    "\n",
    "1. fixed acidity\n",
    "2. volatile acidity - correlated to the vinegar flavor in some wines\n",
    "3. citric acid \n",
    "4. residual sugar - correlated to how 'dry' or 'sweet' the wine is\n",
    "5. chlorides\n",
    "6. free sulfur dioxide\n",
    "7. total sulfur dioxide\n",
    "8. density\n",
    "9. pH\n",
    "10. sulphates\n",
    "11. alcohol\n",
    "12. quality (subjective sensory score between 0 and 10)\n",
    "13. type (0 = red wine, 1 = white wine) \n",
    "\n",
    "\n",
    "Column 1 to 11 are objective physiochemical measurements. Column 12 is a subjective sensory score for the wine quality, assigned by an expert. Column 13 indicates whether the wine is red or white. \n",
    "\n",
    "The main outcome of the project will be a classifier of wines into red and white varieties, as well as a regression model that predicts a wine's quality from it's physiochemical attributes. \n",
    "\n",
    "You will also explore the relation between various attributes. For example, a higher value of citric acid should result in a higher value of fixed acidity, as well as lower pH. A higher value in alcohol should correspond to a lower value in residual sugar (because alcohol is produced from sugar during fermentation). \n",
    "\n",
    "To complete the project, work through the steps below. You may want to revisit the course materials for the segments on matplotlib, pandas, and scipy/scikit-learn. Consult the numpy, matplotlib, pandas, and scikit-learn documentation if necessary. Feel free to experiment further. \n",
    "\n",
    "All necessary packages have been installed in this Codio project already. "
   ]
  },
  {
   "cell_type": "markdown",
   "metadata": {},
   "source": [
    "## Step 1: Reading the Data \n",
    "\n",
    "1.1 Read the data in the file `wines.csv` and store it in a pandas data frame called `data`. You could use the function [`read_csv`](https://pandas.pydata.org/docs/reference/api/pandas.read_csv.html) in the package `pandas.io.parsers`. The resulting data frame should have 6497 rows x 13 columns."
   ]
  },
  {
   "cell_type": "code",
   "execution_count": null,
   "metadata": {},
   "outputs": [],
   "source": [
    "import pandas as pd\n",
    "from pandas.io.parsers import read_csv\n",
    "\n"
   ]
  },
  {
   "cell_type": "code",
   "execution_count": null,
   "metadata": {
    "scrolled": true
   },
   "outputs": [],
   "source": [
    "file_path_r = './Wine+Quality/winequality-red.csv'\n",
    "data_red = read_csv(file_path_r, delimiter=\";\")\n",
    "file_path_w = './Wine+Quality/winequality-white.csv'\n",
    "data_white = read_csv(file_path_w, delimiter=\";\")"
   ]
  },
  {
   "cell_type": "code",
   "execution_count": null,
   "metadata": {},
   "outputs": [],
   "source": [
    "data_red['type']= 0"
   ]
  },
  {
   "cell_type": "code",
   "execution_count": null,
   "metadata": {},
   "outputs": [],
   "source": [
    "data_white[\"type\"]= 1"
   ]
  },
  {
   "cell_type": "code",
   "execution_count": null,
   "metadata": {},
   "outputs": [],
   "source": [
    "data_red"
   ]
  },
  {
   "cell_type": "code",
   "execution_count": null,
   "metadata": {},
   "outputs": [],
   "source": [
    "data_white"
   ]
  },
  {
   "cell_type": "code",
   "execution_count": null,
   "metadata": {},
   "outputs": [],
   "source": [
    "has_missing_values = data_red.isna().any().any()\n",
    "\n",
    "if has_missing_values:\n",
    "    print(\"The DataFrame contains missing values (NaN, None, or null).\")\n",
    "else:\n",
    "    print(\"The DataFrame does not contain any missing values.\")"
   ]
  },
  {
   "cell_type": "code",
   "execution_count": null,
   "metadata": {},
   "outputs": [],
   "source": [
    "has_missing_values = data_white.isna().any().any()\n",
    "\n",
    "if has_missing_values:\n",
    "    print(\"The DataFrame contains missing values (NaN, None, or null).\")\n",
    "else:\n",
    "    print(\"The DataFrame does not contain any missing values.\")"
   ]
  },
  {
   "cell_type": "code",
   "execution_count": null,
   "metadata": {},
   "outputs": [],
   "source": [
    "# Count missing values in each column\n",
    "missing_values_per_column = data_red.isna().sum()\n",
    "\n",
    "print(\"Missing values in each column:\")\n",
    "print(missing_values_per_column)"
   ]
  },
  {
   "cell_type": "code",
   "execution_count": null,
   "metadata": {},
   "outputs": [],
   "source": [
    "# Count missing values in each column\n",
    "missing_values_per_column = data_white.isna().sum()\n",
    "\n",
    "print(\"Missing values in each column:\")\n",
    "print(missing_values_per_column)"
   ]
  },
  {
   "cell_type": "code",
   "execution_count": null,
   "metadata": {},
   "outputs": [],
   "source": [
    "# Count missing values in each row\n",
    "missing_values_per_row = data_red.isna().sum(axis=1)\n",
    "\n",
    "print(\"Missing values in each row:\")\n",
    "print(missing_values_per_row)"
   ]
  },
  {
   "cell_type": "code",
   "execution_count": null,
   "metadata": {},
   "outputs": [],
   "source": [
    "# Locate rows with missing values\n",
    "rows_with_missing_values = data_red[data_red.isna().any(axis=1)]\n",
    "\n",
    "print(\"Rows with missing values:\")\n",
    "print(rows_with_missing_values)"
   ]
  },
  {
   "cell_type": "code",
   "execution_count": null,
   "metadata": {},
   "outputs": [],
   "source": [
    "import seaborn as sns\n",
    "import matplotlib.pyplot as plt\n",
    "\n",
    "# Visualize missing values\n",
    "plt.figure(figsize=(10, 8))\n",
    "sns.heatmap(wines.isna(), cbar=False, cmap='viridis')\n",
    "plt.title('Missing Values Heatmap')\n",
    "plt.show()"
   ]
  },
  {
   "cell_type": "code",
   "execution_count": null,
   "metadata": {},
   "outputs": [],
   "source": [
    "wines = pd.concat([data_red, data_white], ignore_index=True)"
   ]
  },
  {
   "cell_type": "code",
   "execution_count": null,
   "metadata": {},
   "outputs": [],
   "source": [
    "wines"
   ]
  },
  {
   "cell_type": "code",
   "execution_count": null,
   "metadata": {},
   "outputs": [],
   "source": [
    "output_file_path = './Wine+Quality/wines.csv'\n",
    "wines.to_csv(output_file_path, index=False)"
   ]
  },
  {
   "cell_type": "code",
   "execution_count": null,
   "metadata": {},
   "outputs": [],
   "source": [
    "shuffled_wines = wines.sample(frac=1, random_state=42).reset_index(drop=True)\n"
   ]
  },
  {
   "cell_type": "code",
   "execution_count": null,
   "metadata": {},
   "outputs": [],
   "source": [
    "shuffled_wines\n",
    "shuffled_wines.to_csv('./Wine+Quality/shuffled_wines.csv', index=False)"
   ]
  },
  {
   "cell_type": "markdown",
   "metadata": {},
   "source": [
    "1.2. Next, we will divide the data into a training set and a test set. Your training set should contain 90% of the data, which amounts to 5847 instances. The remaining 650 instances should be used for testing.  We will set the test data aside until later in this project, when we use it for evaluating machine learning models.\n",
    "\n",
    "We can do this by using the sample method of the pandas dataframe object. We first extract a random test sample. \n",
    "This step has already been completed. "
   ]
  },
  {
   "cell_type": "code",
   "execution_count": null,
   "metadata": {},
   "outputs": [],
   "source": [
    "test = shuffled_wines.sample(frac=0.1)"
   ]
  },
  {
   "cell_type": "code",
   "execution_count": null,
   "metadata": {},
   "outputs": [],
   "source": [
    "test"
   ]
  },
  {
   "cell_type": "markdown",
   "metadata": {},
   "source": [
    "Next, we drop the rows in the test sample from the data set to obtain the training data set. \n",
    "We will call sample on the training data once more to shuffle the order of rows. "
   ]
  },
  {
   "cell_type": "code",
   "execution_count": null,
   "metadata": {},
   "outputs": [],
   "source": [
    "train = shuffled_wines.drop(test.index)\n",
    "\n",
    "train = train.sample(frac=1)"
   ]
  },
  {
   "cell_type": "code",
   "execution_count": null,
   "metadata": {},
   "outputs": [],
   "source": [
    "train"
   ]
  },
  {
   "cell_type": "code",
   "execution_count": null,
   "metadata": {},
   "outputs": [],
   "source": [
    "test"
   ]
  },
  {
   "cell_type": "markdown",
   "metadata": {},
   "source": [
    "## Step 2: Data Visualization \n",
    "\n",
    "\n",
    "### Class distribution  \n",
    "\n",
    "2.1 Using the [`bar`](https://matplotlib.org/stable/api/_as_gen/matplotlib.pyplot.bar.html) function in the module `matplotlib.pyplot` plot a bar chart of the distribution of white and red wines in the training set. Hint: First select the `type` column from the training set, then count how many wines of type 0 and type 1 there are. \n",
    "The [`value_counts`](https://pandas.pydata.org/docs/reference/api/pandas.DataFrame.value_counts.html) method of the data frame may be useful. "
   ]
  },
  {
   "cell_type": "code",
   "execution_count": null,
   "metadata": {},
   "outputs": [],
   "source": [
    "from matplotlib import pyplot as plt "
   ]
  },
  {
   "cell_type": "code",
   "execution_count": null,
   "metadata": {},
   "outputs": [],
   "source": [
    "train_type_column = train['type']\n",
    "train_type_counts = train_type_column.value_counts()"
   ]
  },
  {
   "cell_type": "code",
   "execution_count": null,
   "metadata": {},
   "outputs": [],
   "source": [
    "plt.xlabel('Wine Type')\n",
    "plt.ylabel('Count')\n",
    "plt.title('Distribution of Wine Types in Training Set')\n",
    "plt.xticks(ticks=[0, 1], labels=['Red Wine', 'White Wine'])\n",
    "plt.bar(train_type_counts.index, train_type_counts.values, color=['green', 'red'])"
   ]
  },
  {
   "cell_type": "markdown",
   "metadata": {},
   "source": [
    "2.2 You can also try to plot a pie chart to visualize this information. Take a look at the documentation for [matplotlib.pyplot.pie](https://matplotlib.org/stable/api/_as_gen/matplotlib.pyplot.pie.html)."
   ]
  },
  {
   "cell_type": "code",
   "execution_count": null,
   "metadata": {},
   "outputs": [],
   "source": [
    "plt.title('Wines Frequency')\n",
    "labels = [\"White Wine\",\"Red Wine\"]\n",
    "plt.pie(train_type_counts, explode=(0,0.1), labels=labels, colors=[\"green\",\"red\"], autopct='%1.1f%%', pctdistance=1.2, shadow=True, labeldistance=0.5, startangle=90, radius=1, counterclock=True, wedgeprops=None, textprops=None, center=(0, 0), frame=False, rotatelabels=False, normalize=True, hatch=None, data=None)"
   ]
  },
  {
   "cell_type": "markdown",
   "metadata": {},
   "source": [
    "2.3 Next, take a look look at the distribution of the 'quality' ratings in the training data. A bar chart is the most intuitive way of representing this information. You could also try to to use a histogram (using the [`matplotlib.pyplot.hist`](https://matplotlib.org/stable/api/_as_gen/matplotlib.pyplot.hist.html) function). What is the difference between the bar chart and the histogram?"
   ]
  },
  {
   "cell_type": "code",
   "execution_count": null,
   "metadata": {},
   "outputs": [],
   "source": [
    "train_quality_column = train[\"quality\"]"
   ]
  },
  {
   "cell_type": "code",
   "execution_count": null,
   "metadata": {},
   "outputs": [],
   "source": [
    "train_quality_column.value_counts()"
   ]
  },
  {
   "cell_type": "code",
   "execution_count": null,
   "metadata": {},
   "outputs": [],
   "source": [
    "plt.xlabel(\"quality\")\n",
    "plt.ylabel(\"Quantity of Wines\")\n",
    "plt.title(\"Qantity of Wines per Quality\")\n",
    "\n",
    "hist = plt.hist(train_quality_column,bins=10)"
   ]
  },
  {
   "cell_type": "code",
   "execution_count": null,
   "metadata": {},
   "outputs": [],
   "source": [
    "import matplotlib.ticker as ticker\n",
    "plt.gca().yaxis.set_major_locator(ticker.MultipleLocator(80))\n",
    "plt.hist(train_quality_column,bins=50)"
   ]
  },
  {
   "cell_type": "markdown",
   "metadata": {},
   "source": [
    "### Attribute Distributions \n",
    "\n",
    "2.4 Next, also plot histograms for some of the attributes for the training data. For example, it is interesting to see how the 'pH', 'alcohol', 'citric acid' and 'risidual sugar' values are distributed. You can use [`matplotlib.pyplot.hist`](https://matplotlib.org/stable/api/_as_gen/matplotlib.pyplot.hist.html) function."
   ]
  },
  {
   "cell_type": "code",
   "execution_count": null,
   "metadata": {},
   "outputs": [],
   "source": [
    "train_pH_column = train[\"pH\"]\n",
    "train_pH_column.value_counts()"
   ]
  },
  {
   "cell_type": "code",
   "execution_count": null,
   "metadata": {},
   "outputs": [],
   "source": [
    "plt.xlabel(\"pH\")\n",
    "plt.ylabel(\"Quantity of Wine\")\n",
    "plt.title(\"pH Frequency\")\n",
    "plt.hist(train_pH_column,bins=100)"
   ]
  },
  {
   "cell_type": "code",
   "execution_count": null,
   "metadata": {},
   "outputs": [],
   "source": [
    "train_alcohol_column = train[\"alcohol\"]\n",
    "train_alcohol_column.value_counts()"
   ]
  },
  {
   "cell_type": "code",
   "execution_count": null,
   "metadata": {},
   "outputs": [],
   "source": [
    "plt.xlabel(\"alcohol\")\n",
    "plt.ylabel(\"Quantity of Wine\")\n",
    "plt.title(\"Alcohol percentage Frequency\")\n",
    "plt.hist(train_alcohol_column,bins=100)"
   ]
  },
  {
   "cell_type": "code",
   "execution_count": null,
   "metadata": {},
   "outputs": [],
   "source": [
    "train_citric_acid_column = train[\"citric acid\"]\n",
    "train_citric_acid_column.value_counts()"
   ]
  },
  {
   "cell_type": "code",
   "execution_count": null,
   "metadata": {},
   "outputs": [],
   "source": [
    "plt.xlabel(\"citric acid\")\n",
    "plt.ylabel(\"Quantity of Wine\")\n",
    "plt.title(\"citric acid Frequency\")\n",
    "plt.hist(train_citric_acid_column,bins=100)"
   ]
  },
  {
   "cell_type": "code",
   "execution_count": null,
   "metadata": {},
   "outputs": [],
   "source": [
    "train_residual_sugar_column = train[\"residual sugar\"]\n",
    "train_residual_sugar_column.value_counts()"
   ]
  },
  {
   "cell_type": "code",
   "execution_count": null,
   "metadata": {},
   "outputs": [],
   "source": [
    "plt.xlabel(\"residual sugar\")\n",
    "plt.ylabel(\"Quantity of Wine\")\n",
    "plt.title(\"residual sugar percentage Frequency\")\n",
    "plt.hist(train_residual_sugar_column,bins=100)"
   ]
  },
  {
   "cell_type": "markdown",
   "metadata": {},
   "source": [
    "2.5 Next filter the training set into white and red wines (using the type column). Then plot histograms for individual attributes. Try to find attributes for which the distribution differs between red and white wines. "
   ]
  },
  {
   "cell_type": "markdown",
   "metadata": {},
   "source": [
    "Red Wine X White Wine\n",
    "\n",
    "fixed acidity,volatile acidity,citric acid,residual sugar,chlorides,free sulfur dioxide,total sulfur dioxide,density,pH,sulphates,alcohol,quality"
   ]
  },
  {
   "cell_type": "code",
   "execution_count": null,
   "metadata": {},
   "outputs": [],
   "source": [
    "white_wine_train = train[train[\"type\"]==1]\n",
    "red_wine_train = train[train[\"type\"]==0]"
   ]
  },
  {
   "cell_type": "markdown",
   "metadata": {},
   "source": [
    "1.FIXED ACIDITY"
   ]
  },
  {
   "cell_type": "code",
   "execution_count": null,
   "metadata": {},
   "outputs": [],
   "source": [
    "red_fix_ac_train = red_wine_train[\"fixed acidity\"]\n",
    "plt.hist(red_fix_ac_train, bins=100)"
   ]
  },
  {
   "cell_type": "code",
   "execution_count": null,
   "metadata": {},
   "outputs": [],
   "source": [
    "white_fix_ac_train = white_wine_train[\"fixed acidity\"]\n",
    "plt.hist(white_fix_ac_train, bins=100)"
   ]
  },
  {
   "cell_type": "markdown",
   "metadata": {},
   "source": [
    "2.VOLATILE ACIDITY"
   ]
  },
  {
   "cell_type": "code",
   "execution_count": null,
   "metadata": {},
   "outputs": [],
   "source": [
    "red_vol_ac_train = red_wine_train[\"volatile acidity\"]\n",
    "plt.hist(red_vol_ac_train,bins=100)"
   ]
  },
  {
   "cell_type": "code",
   "execution_count": null,
   "metadata": {},
   "outputs": [],
   "source": [
    "white_vol_ac_train = white_wine_train[\"volatile acidity\"]\n",
    "plt.hist(white_vol_ac_train,bins=100)"
   ]
  },
  {
   "cell_type": "markdown",
   "metadata": {},
   "source": [
    "3.CITRIC ACID"
   ]
  },
  {
   "cell_type": "markdown",
   "metadata": {},
   "source": [
    "4.RESIDUAL SUGAR"
   ]
  },
  {
   "cell_type": "markdown",
   "metadata": {},
   "source": [
    "5.Chlorides"
   ]
  },
  {
   "cell_type": "markdown",
   "metadata": {},
   "source": [
    "6.Free Sulfur Dioxide"
   ]
  },
  {
   "cell_type": "markdown",
   "metadata": {},
   "source": [
    "7.Total Sulfur Dioxide"
   ]
  },
  {
   "cell_type": "markdown",
   "metadata": {},
   "source": [
    "### Scatter Plots\n",
    "\n",
    "2.6 Next, create 2D scatter plot of pairs of attributes for the instances in the training data. Use the [matplotlib.pyplot.scatter](https://matplotlib.org/stable/api/_as_gen/matplotlib.pyplot.scatter.html) function. \n",
    "\n",
    "Plot the following: \n",
    "\n",
    "* 'residual sugar' v.s. 'alcohol' \n",
    "* 'citric acid' v.s. 'pH'\n",
    "* 'citric acid' v.s. 'fixed acidity'\n",
    "\n",
    "This should reveal some interesting correlations. "
   ]
  },
  {
   "cell_type": "code",
   "execution_count": null,
   "metadata": {},
   "outputs": [],
   "source": []
  },
  {
   "cell_type": "code",
   "execution_count": null,
   "metadata": {},
   "outputs": [],
   "source": []
  },
  {
   "cell_type": "code",
   "execution_count": null,
   "metadata": {
    "scrolled": true
   },
   "outputs": [],
   "source": []
  },
  {
   "cell_type": "markdown",
   "metadata": {},
   "source": [
    "## Step 3: Regression Analysis: Residual Sugar vs. Alcohol\n",
    "\n",
    "\n",
    "It makes sense that the amount of residual sugar is negatively correlated with the amount of alcohol because, during fermentation, sugar is converted in alcohol. If fermentation is stopped early, more sugar remains. The amount of sugar also depends on grape variety and time of harvest. \n",
    " \n",
    "3.1 In the segment on pandas, we used the function [`numpy.linalg.lstsq`](https://numpy.org/doc/stable/reference/generated/numpy.linalg.lstsq.html). Using this approach, perform linear regression between the 'residual sugar' and 'alcohol' attributes on the training data. The method will return a list of coefficients: the slope m, and the intercept c. \n",
    "\n",
    "3.2 Then, repeat the scatter plot for these attributes from step 2 and add a regression line. \n",
    "Note that the plot may look a little strange due to one or more outliers in the data. If you have the time, it may be worth trying to remove these before performing regression. \n",
    "\n",
    "\n",
    "3.3 (optional) You can also experiment with volatile acidity vs. pH or volatile acidity vs. citric acid.\n",
    "\n",
    "3.4 (optional) You may also want to take a look at [`sklearn.linear_model.LinearRegression`](https://scikit-learn.org/stable/auto_examples/linear_model/plot_ols.html#sphx-glr-auto-examples-linear-model-plot-ols-py) for an alternative approach to performing linear regression."
   ]
  },
  {
   "cell_type": "code",
   "execution_count": null,
   "metadata": {},
   "outputs": [],
   "source": [
    "import numpy as np"
   ]
  },
  {
   "cell_type": "code",
   "execution_count": null,
   "metadata": {},
   "outputs": [],
   "source": [
    "#A = # TODO, see example in the lecture on pandas"
   ]
  },
  {
   "cell_type": "code",
   "execution_count": null,
   "metadata": {},
   "outputs": [],
   "source": [
    "#coefs = np.linalg.lstsq( ... ) # TODO complete this"
   ]
  },
  {
   "cell_type": "code",
   "execution_count": null,
   "metadata": {},
   "outputs": [],
   "source": [
    "#m = #\n",
    "#c = #"
   ]
  },
  {
   "cell_type": "code",
   "execution_count": null,
   "metadata": {},
   "outputs": [],
   "source": []
  },
  {
   "cell_type": "markdown",
   "metadata": {},
   "source": [
    "## Step 4: Classification\n",
    "\n",
    "Next, we will train several ML classifiers to predict if a wine is red or white. \n",
    "\n",
    "4.1 Before we train a classifier, we first need to drop the class label (the type column) as well as the quality column from the training and test data. "
   ]
  },
  {
   "cell_type": "code",
   "execution_count": null,
   "metadata": {},
   "outputs": [],
   "source": [
    "train_x = train.drop([\"type\",\"quality\"], axis=1)\n",
    "train_y = train[\"type\"]"
   ]
  },
  {
   "cell_type": "code",
   "execution_count": null,
   "metadata": {},
   "outputs": [],
   "source": [
    "test_x = test.drop([\"type\",\"quality\"],axis=1)\n",
    "test_y = test[\"type\"]"
   ]
  },
  {
   "cell_type": "markdown",
   "metadata": {},
   "source": [
    "4.2 Next, train at least three different sklearn classifiers and evaluate them on the test set. The basic approach is illustrated in the lecture on scipy and scikit-learn.  In my experiments, the RandomForestClassifier performed best, achieving a classification accuracy of 99.54."
   ]
  },
  {
   "cell_type": "code",
   "execution_count": null,
   "metadata": {},
   "outputs": [],
   "source": [
    "from sklearn.svm import SVC\n",
    "from sklearn.linear_model import Perceptron\n",
    "from sklearn.tree import DecisionTreeClassifier\n",
    "from sklearn.ensemble import RandomForestClassifier"
   ]
  },
  {
   "cell_type": "code",
   "execution_count": null,
   "metadata": {},
   "outputs": [],
   "source": []
  },
  {
   "cell_type": "code",
   "execution_count": null,
   "metadata": {},
   "outputs": [],
   "source": []
  },
  {
   "cell_type": "markdown",
   "metadata": {},
   "source": [
    "## Step 5: Regression: Predicting Wine Quality"
   ]
  },
  {
   "cell_type": "markdown",
   "metadata": {},
   "source": [
    "In this last step, we will trian a regression model to predict wine quality from the physiochemical attributes.\n",
    "\n",
    "5.1 First, we obtain the quality ratings for the train and test instances. "
   ]
  },
  {
   "cell_type": "code",
   "execution_count": null,
   "metadata": {},
   "outputs": [],
   "source": [
    "train_quality = train['quality']\n",
    "test_quality = test['quality']\n"
   ]
  },
  {
   "cell_type": "markdown",
   "metadata": {},
   "source": [
    "5.2 We will use the LinearRegression model in [sklearn.linear_model.LinearRegression](https://scikit-learn.org/stable/modules/generated/sklearn.linear_model.LinearRegression.html).\n",
    "\n",
    "Use the `fit` method to find the regression coefficients. Then evaluate the model on the test data. The `score` method of the LinearRegression model returns an R² value by default. In my experiments, I achieved an R² score of 0.2749. If you want to also print the mean squared error, you can use the `predict` method to obtain quality predictions for each instance. Then score these predictions using the `mean_squared_error` function in the [`sklearn.metrics`](https://scikit-learn.org/stable/modules/generated/sklearn.metrics.mean_squared_error) module. "
   ]
  },
  {
   "cell_type": "code",
   "execution_count": null,
   "metadata": {},
   "outputs": [],
   "source": [
    "from sklearn.linear_model import LinearRegression\n",
    "from sklearn.metrics import mean_squared_error"
   ]
  },
  {
   "cell_type": "markdown",
   "metadata": {},
   "source": [
    "5.3 Finally, take a look at the coefficients of the trained model. These are stored in the `coef_` attribute of the model. Which of the attributes is the most important in determining wine quality according to the model?"
   ]
  },
  {
   "cell_type": "code",
   "execution_count": null,
   "metadata": {},
   "outputs": [],
   "source": []
  }
 ],
 "metadata": {
  "kernelspec": {
   "display_name": "Python 3",
   "language": "python",
   "name": "python3"
  },
  "language_info": {
   "codemirror_mode": {
    "name": "ipython",
    "version": 3
   },
   "file_extension": ".py",
   "mimetype": "text/x-python",
   "name": "python",
   "nbconvert_exporter": "python",
   "pygments_lexer": "ipython3",
   "version": "3.12.4"
  }
 },
 "nbformat": 4,
 "nbformat_minor": 2
}
